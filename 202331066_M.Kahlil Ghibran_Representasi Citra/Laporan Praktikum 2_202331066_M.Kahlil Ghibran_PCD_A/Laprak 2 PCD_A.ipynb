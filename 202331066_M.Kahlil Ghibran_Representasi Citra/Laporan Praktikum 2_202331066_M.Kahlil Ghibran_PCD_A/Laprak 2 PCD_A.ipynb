{
 "cells": [
  {
   "cell_type": "markdown",
   "id": "3bfb7a3b-5795-4cec-881a-2428b388f9ff",
   "metadata": {},
   "source": [
    "## Import Library"
   ]
  },
  {
   "cell_type": "code",
   "execution_count": 1,
   "id": "4c96810c-6d54-46bd-85d2-6265737b4243",
   "metadata": {},
   "outputs": [],
   "source": [
    "import cv2\n",
    "import numpy as np\n",
    "## 202331066_M.Kahlil Ghibran"
   ]
  },
  {
   "cell_type": "markdown",
   "id": "d8b3d2b1-966a-4620-9bed-bfac814c0919",
   "metadata": {},
   "source": [
    "## Membaca Citra"
   ]
  },
  {
   "cell_type": "code",
   "execution_count": 2,
   "id": "53a8586d-c293-4189-8229-f47e372e36f5",
   "metadata": {},
   "outputs": [],
   "source": [
    "citra = cv2.imread('Delima.jpg')\n",
    "## 202331066_M.Kahlil Ghibran"
   ]
  },
  {
   "cell_type": "code",
   "execution_count": 12,
   "id": "60f25d17-c2e6-4654-adb7-a199646cd483",
   "metadata": {},
   "outputs": [],
   "source": [
    "cv2.imshow('Delima', citra)\n",
    "cv2.waitKey()\n",
    "cv2.destroyAllWindows()\n",
    "## 202331066_M.Kahlil Ghibran"
   ]
  },
  {
   "cell_type": "markdown",
   "id": "3e5c9a44-4d0c-4435-9761-3c9533242021",
   "metadata": {},
   "source": [
    "## Dimensi Citra"
   ]
  },
  {
   "cell_type": "code",
   "execution_count": 4,
   "id": "c5277d21-2ecc-419c-96d1-2d80f8119dfb",
   "metadata": {},
   "outputs": [
    {
     "name": "stdout",
     "output_type": "stream",
     "text": [
      "(478, 720, 3)\n",
      "uint8\n"
     ]
    }
   ],
   "source": [
    "print(citra.shape)\n",
    "print(citra.dtype)\n",
    "## 202331066_M.Kahlil Ghibran"
   ]
  },
  {
   "cell_type": "markdown",
   "id": "2106a9e6-9d6e-4ed8-bda0-815a77bf7990",
   "metadata": {},
   "source": [
    "## Splitting Citra RGB/BGR"
   ]
  },
  {
   "cell_type": "code",
   "execution_count": 5,
   "id": "3875245d-7353-437e-afec-5acba4975f70",
   "metadata": {},
   "outputs": [],
   "source": [
    "b = citra [:,:,0]\n",
    "g = citra [:,:,1]\n",
    "r = citra [:,:,2]\n",
    "## 202331066_M.Kahlil Ghibran"
   ]
  },
  {
   "cell_type": "markdown",
   "id": "0925130d-45ad-4071-ab55-a505c5936192",
   "metadata": {},
   "source": [
    "## RGB to Grayscale"
   ]
  },
  {
   "cell_type": "code",
   "execution_count": 13,
   "id": "31168238-a4f3-40c6-908d-1837722dd586",
   "metadata": {},
   "outputs": [],
   "source": [
    "panjang = len(citra)#menghitung baris\n",
    "lebar = len(citra[0])#menghitung kolom\n",
    "\n",
    "citra_gray = np.zeros((panjang,lebar))\n",
    "\n",
    "for i in range (panjang):\n",
    "    for j in range (lebar):\n",
    "        citra_gray[i,j] = 0.2989 * r[i,j] + 0.587 * g[i,j] + 0.1141 * b[i,j] #merah = 29,89% ; hijau = 58,7% ; biru = 11,41%\n",
    "\n",
    "citra_gray = citra_gray.astype(np.uint8)\n",
    "\n",
    "cv2.imshow('citra grayscale', citra_gray)\n",
    "cv2.waitKey()\n",
    "cv2.destroyAllWindows()\n",
    "## 202331066_M.Kahlil Ghibran"
   ]
  },
  {
   "cell_type": "code",
   "execution_count": 7,
   "id": "210f9b1c-6b67-4e2d-88b6-8356d2f9d332",
   "metadata": {},
   "outputs": [
    {
     "name": "stdout",
     "output_type": "stream",
     "text": [
      "[[[  4   3  97]\n",
      "  [  4   3  97]\n",
      "  [  5   3  99]\n",
      "  ...\n",
      "  [ 96  81 232]\n",
      "  [ 52  40 194]\n",
      "  [ 63  52 208]]\n",
      "\n",
      " [[  3   2  96]\n",
      "  [  3   2  96]\n",
      "  [  4   3  97]\n",
      "  ...\n",
      "  [ 41  29 181]\n",
      "  [ 39  31 186]\n",
      "  [ 22  15 172]]\n",
      "\n",
      " [[  3   0  92]\n",
      "  [  3   0  92]\n",
      "  [  2   1  93]\n",
      "  ...\n",
      "  [ 14   8 163]\n",
      "  [  8   4 163]\n",
      "  [ 38  36 196]]\n",
      "\n",
      " ...\n",
      "\n",
      " [[115  98 209]\n",
      "  [110  94 202]\n",
      "  [111  95 202]\n",
      "  ...\n",
      "  [ 92  63 212]\n",
      "  [ 87  58 208]\n",
      "  [ 81  51 204]]\n",
      "\n",
      " [[123 109 214]\n",
      "  [117 104 206]\n",
      "  [115 102 204]\n",
      "  ...\n",
      "  [ 92  65 209]\n",
      "  [ 88  60 207]\n",
      "  [ 84  55 204]]\n",
      "\n",
      " [[126 114 214]\n",
      "  [120 108 208]\n",
      "  [116 106 206]\n",
      "  ...\n",
      "  [ 90  64 206]\n",
      "  [ 88  61 205]\n",
      "  [ 88  60 207]]]\n"
     ]
    }
   ],
   "source": [
    "print(citra)\n",
    "## 202331066_M.Kahlil Ghibran"
   ]
  },
  {
   "cell_type": "code",
   "execution_count": 8,
   "id": "e2ef724a-42d6-4590-a1cb-e8f44b46bd4b",
   "metadata": {},
   "outputs": [
    {
     "name": "stdout",
     "output_type": "stream",
     "text": [
      "[[ 31  31  31 ... 127  87  99]\n",
      " [ 30  30  31 ...  75  78  62]\n",
      " [ 27  27  28 ...  55  51  84]\n",
      " ...\n",
      " [133 128 128 ... 110 106 100]\n",
      " [141 135 133 ... 111 107 102]\n",
      " [145 139 137 ... 109 107 107]]\n"
     ]
    }
   ],
   "source": [
    "print(citra_gray)\n",
    "## 202331066_M.Kahlil Ghibran"
   ]
  },
  {
   "cell_type": "markdown",
   "id": "1b43f2b4-abcd-4eb7-b37b-21abb1248bd7",
   "metadata": {},
   "source": [
    "## Grayscale to Binary"
   ]
  },
  {
   "cell_type": "code",
   "execution_count": 14,
   "id": "1f9f658e-703d-4de3-9dc4-6b741640344a",
   "metadata": {},
   "outputs": [],
   "source": [
    "panjang = len(citra)#menghitung baris\n",
    "lebar = len(citra[0])#menghitung kolom\n",
    "\n",
    "ambang = 90\n",
    "\n",
    "citra_biner = np.zeros((panjang,lebar))\n",
    "\n",
    "for i in range (panjang):\n",
    "    for j in range (lebar):\n",
    "        if citra_gray[i,j] >= ambang:\n",
    "            citra_biner[i,j] = 1 #putih\n",
    "        else:\n",
    "            citra_biner[i,j] = 0 #hitam\n",
    "\n",
    "cv2.imshow('citra binary', citra_biner)\n",
    "cv2.waitKey()\n",
    "cv2.destroyAllWindows()\n",
    "## 202331066_M.Kahlil Ghibran"
   ]
  },
  {
   "cell_type": "code",
   "execution_count": 10,
   "id": "10db70b2-3160-4e77-82e4-8e5961d3a8b6",
   "metadata": {},
   "outputs": [
    {
     "name": "stdout",
     "output_type": "stream",
     "text": [
      "[[0. 0. 0. ... 1. 0. 1.]\n",
      " [0. 0. 0. ... 0. 0. 0.]\n",
      " [0. 0. 0. ... 0. 0. 0.]\n",
      " ...\n",
      " [1. 1. 1. ... 1. 1. 1.]\n",
      " [1. 1. 1. ... 1. 1. 1.]\n",
      " [1. 1. 1. ... 1. 1. 1.]]\n"
     ]
    }
   ],
   "source": [
    "print(citra_biner)\n",
    "## 202331066_M.Kahlil Ghibran"
   ]
  },
  {
   "cell_type": "code",
   "execution_count": 11,
   "id": "63f3144f-1000-4bf7-8bcd-8ae3b8363ef9",
   "metadata": {},
   "outputs": [
    {
     "name": "stdout",
     "output_type": "stream",
     "text": [
      "0.0\n"
     ]
    }
   ],
   "source": [
    "print(citra_biner[50,50])\n",
    "## 202331066_M.Kahlil Ghibran"
   ]
  },
  {
   "cell_type": "code",
   "execution_count": null,
   "id": "aea20f6e-ab79-4aec-ae3e-4052129bdb37",
   "metadata": {},
   "outputs": [],
   "source": []
  }
 ],
 "metadata": {
  "kernelspec": {
   "display_name": "Python 3 (ipykernel)",
   "language": "python",
   "name": "python3"
  },
  "language_info": {
   "codemirror_mode": {
    "name": "ipython",
    "version": 3
   },
   "file_extension": ".py",
   "mimetype": "text/x-python",
   "name": "python",
   "nbconvert_exporter": "python",
   "pygments_lexer": "ipython3",
   "version": "3.12.7"
  }
 },
 "nbformat": 4,
 "nbformat_minor": 5
}
